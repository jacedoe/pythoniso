{
  "nbformat": 4,
  "nbformat_minor": 0,
  "metadata": {
    "kernelspec": {
      "display_name": "Python 3",
      "language": "python",
      "name": "python3"
    },
    "language_info": {
      "codemirror_mode": {
        "name": "ipython",
        "version": 3
      },
      "file_extension": ".py",
      "mimetype": "text/x-python",
      "name": "python",
      "nbconvert_exporter": "python",
      "pygments_lexer": "ipython3",
      "version": "3.9.4"
    },
    "colab": {
      "name": "PY0101ES-3-4-Clases.ipynb",
      "provenance": [],
      "include_colab_link": true
    }
  },
  "cells": [
    {
      "cell_type": "markdown",
      "metadata": {
        "id": "view-in-github",
        "colab_type": "text"
      },
      "source": [
        "<a href=\"https://colab.research.google.com/github/jacedoe/pythoniso/blob/main/PY0101ES_3_4_Clases.ipynb\" target=\"_parent\"><img src=\"https://colab.research.google.com/assets/colab-badge.svg\" alt=\"Open In Colab\"/></a>"
      ]
    },
    {
      "cell_type": "markdown",
      "metadata": {
        "id": "P2-VV0iuGHAB"
      },
      "source": [
        "<div class=\"alert alert-block alert-info\" style=\"margin-top: 20px\">\n",
        "    <a href=\"https://cocl.us/PY0101EN_edx_add_top\">\n",
        "         <img src=\"https://s3-api.us-geo.objectstorage.softlayer.net/cf-courses-data/CognitiveClass/PY0101EN/Ad/TopAd.png\" width=\"750\" align=\"center\">\n",
        "    </a>\n",
        "</div>"
      ]
    },
    {
      "cell_type": "code",
      "metadata": {
        "id": "5uVeqpeQ3VY3",
        "colab": {
          "base_uri": "https://localhost:8080/"
        },
        "outputId": "c956757a-96b2-465f-a7b5-9b78e5834b85"
      },
      "source": [
        "print('Welcome')"
      ],
      "execution_count": null,
      "outputs": [
        {
          "output_type": "stream",
          "text": [
            "Welcome\n"
          ],
          "name": "stdout"
        }
      ]
    },
    {
      "cell_type": "markdown",
      "metadata": {
        "id": "B2Ij2GJbGHAM"
      },
      "source": [
        "<a href=\"https://cognitiveclass.ai/\">\n",
        "    <img src=\"https://s3-api.us-geo.objectstorage.softlayer.net/cf-courses-data/CognitiveClass/PY0101EN/Ad/CCLog.png\" width=\"200\" align=\"center\">\n",
        "</a>"
      ]
    },
    {
      "cell_type": "markdown",
      "metadata": {
        "id": "S1-udy87GHAO"
      },
      "source": [
        "<h1>Clases y Objetos en Python</h1>"
      ]
    },
    {
      "cell_type": "markdown",
      "metadata": {
        "id": "3bTCKg7NGHAO"
      },
      "source": [
        "<p>\n",
        "    <strong>¡Bienvenido!</strong> \n",
        "    Los objetos en programación son parecidos a los de la vida real. Al igual que los reales, hay distintos tipos de objetos. En este cuaderno, crearemos dos clases llamadas Circulo y Rectángulo. Al final, tendrás una idea mas clara acerca de:\n",
        "    <ul>\n",
        "        <li>Qué es una clase</li>\n",
        "        <li>Qué es un atributo</li>\n",
        "        <li>Qué es un método</li>\n",
        "    </ul>\n",
        "\n",
        "No te preocupes si no lo entiendes la primera vez ya que la terminología es confusa. No olvides hacer los exámenes de este cuaderno.\n",
        "</p>"
      ]
    },
    {
      "cell_type": "markdown",
      "metadata": {
        "id": "m2mr-rTUGHAQ"
      },
      "source": [
        "<h2>Tabla de Contenido</h2>\n",
        "<div class=\"alert alert-block alert-info\" style=\"margin-top: 20px\">\n",
        "    <ul>\n",
        "        <li>\n",
        "            <a href=\"#intro\">Introducción a las Clases y Objetos</a>\n",
        "            <ul>\n",
        "                <li><a href=\"create\">Crear una Clase</a></li>\n",
        "                <li><a href=\"instance\">Instancias de la Clase: Objetos y Atributos</a></li>\n",
        "                <li><a href=\"method\">Métodos</a></li>\n",
        "            </ul>\n",
        "        </li>\n",
        "        <li><a href=\"creating\">Crear una Clase</a></li>\n",
        "        <li><a href=\"circle\">Crear una instancia de la clase Circulo</a></li>\n",
        "        <li><a href=\"rect\">La Clase Rectángulo</a></li>\n",
        "    </ul>\n",
        "    <p>\n",
        "        Tiempo Estimado: <strong>40 min</strong>\n",
        "    </p>\n",
        "</div>\n",
        "\n",
        "<hr>"
      ]
    },
    {
      "cell_type": "markdown",
      "metadata": {
        "id": "YzJpobM3GHAR"
      },
      "source": [
        "<h2 id=\"intro\">Introducción a las Clases y Objetos</h2>"
      ]
    },
    {
      "cell_type": "markdown",
      "metadata": {
        "id": "4wLiOF79GHAS"
      },
      "source": [
        "<h3>Crear una Clase</h3>"
      ]
    },
    {
      "cell_type": "markdown",
      "metadata": {
        "id": "K4ctz2QwGHAT"
      },
      "source": [
        "Lo primero al crear una clase es darle un nombre: En este cuaderno, crearemos dos clases, Circulo y Rectángulo. Tenemos que determinar los datos necesarios para hacer esa clase, a esos datos le llamamos atributos. Puedes pensar en este paso como la creación de un plano que después usaremos para construir objetos. En la imagen 1 podemos ver dos clases, circulo (Circle) y rectángulo (Rectangle). Cada una posee atributos, en forma de variables. La clase circulo tiene los atributos: radius y color, la clase rectángulo posee los atributos height y width (altura y ancho en inglés respectivamente). Usemos algunos ejemplos visuales de estas figuras antes de ver el código, esto ayudara a que te familiarices con el vocabulario."
      ]
    },
    {
      "cell_type": "markdown",
      "metadata": {
        "id": "XPY97hzlGHAV"
      },
      "source": [
        "<img src=\"https://s3-api.us-geo.objectstorage.softlayer.net/cf-courses-data/CognitiveClass/PY0101EN/Chapter%203/Images/ClassesClass.png\" width=\"500\" />"
      ]
    },
    {
      "cell_type": "markdown",
      "metadata": {
        "id": "OaDQeIFuGHAW"
      },
      "source": [
        "<i> Figura 1: Clases circle y rectangle, cada una tiene sus atributos. La clase circle tiene los atributos radius y colour, la clase rectángulo posee los atributos height y width (altura y ancho en inglés respectivamente).</i> "
      ]
    },
    {
      "cell_type": "markdown",
      "metadata": {
        "id": "yMSiJfsJGHAX"
      },
      "source": [
        "<h3 id=\"instance\">Instancias de la Clase: Objetos y Atributos</h3>"
      ]
    },
    {
      "cell_type": "markdown",
      "metadata": {
        "id": "wjyH2xtvGHAY"
      },
      "source": [
        "Una instancia de objeto es producto de una clase, en la figura 2 podemos ver tres instancias de la clase circle. Le damos a cada objeto el nombre: red circle (círculo rojo), yellow circle (círculo amarillo) y green circle (círculo verde). Cada uno tiene distintos atributos, enfoquémonos por ahora en el atributo colour (color) de cada objeto."
      ]
    },
    {
      "cell_type": "markdown",
      "metadata": {
        "id": "3LtqnmDzGHAZ"
      },
      "source": [
        "<img src=\"https://s3-api.us-geo.objectstorage.softlayer.net/cf-courses-data/CognitiveClass/PY0101EN/Chapter%203/Images/ClassesObj.png\" width=\"500\" />"
      ]
    },
    {
      "cell_type": "markdown",
      "metadata": {
        "id": "3EWr_XUaGHAa"
      },
      "source": [
        "<i>Figura 2: Tres instancias de la clase circle o, dicho de otra forma, tres objetos de tipo circle.</i>"
      ]
    },
    {
      "cell_type": "markdown",
      "metadata": {
        "id": "6qINbj-lGHAa"
      },
      "source": [
        "El atributo colour para el círculo rojo es el color rojo, para el círculo verde será el verde y amarillo para el círculo amarillo."
      ]
    },
    {
      "cell_type": "markdown",
      "metadata": {
        "id": "VoDLNPvmGHAb"
      },
      "source": [
        "<h3 id=\"method\">Métodos</h3>"
      ]
    },
    {
      "cell_type": "markdown",
      "metadata": {
        "id": "01NCzjUrGHAc"
      },
      "source": [
        "Los métodos permiten cambiar o interactuar con el objeto; los métodos son funciones que interactúan con los objetos. Por ejemplo, digamos que queremos incrementar el radio (radius) de un círculo. Podemos crear un método llamado **add_radius(r)** que incremenete el radio por **r**. Esto se muestra en la figura 3, donde después de usar el método al objeto “orange circle”, el radio aumenta. El “punto” significa que el método será aplica a ese objeto, que en esencia es ejecutar una función sobre la información del objeto."
      ]
    },
    {
      "cell_type": "markdown",
      "metadata": {
        "id": "Ma5iZCNNGHAd"
      },
      "source": [
        "<img src=\"https://s3-api.us-geo.objectstorage.softlayer.net/cf-courses-data/CognitiveClass/PY0101EN/Chapter%203/Images/ClassesMethod.png\" width=\"500\" /> "
      ]
    },
    {
      "cell_type": "markdown",
      "metadata": {
        "id": "aDpYJoG7GHAe"
      },
      "source": [
        "<i>Figura 3: Aplicar el método “add_radius” al objeto “orange circle”.</i>"
      ]
    },
    {
      "cell_type": "markdown",
      "metadata": {
        "id": "RV_edHJgGHAf"
      },
      "source": [
        "<hr>"
      ]
    },
    {
      "cell_type": "markdown",
      "metadata": {
        "id": "BJplGYBZGHAf"
      },
      "source": [
        "<h2 id=\"creating\">Crear una Clase</h2>"
      ]
    },
    {
      "cell_type": "markdown",
      "metadata": {
        "id": "8eZ-TGsFGHAg"
      },
      "source": [
        "Creemos ahora una clase circle, pero primero, importemos una librería para dibujar objetos:"
      ]
    },
    {
      "cell_type": "code",
      "metadata": {
        "collapsed": true,
        "id": "XB4uC_QjGHAh"
      },
      "source": [
        "# Importar la librería\n",
        " \n",
        "import matplotlib.pyplot as plt\n",
        "%matplotlib inline"
      ],
      "execution_count": null,
      "outputs": []
    },
    {
      "cell_type": "markdown",
      "metadata": {
        "id": "FKiNOELMGHAi"
      },
      "source": [
        "El primer paso en la creación de nuestra clase es usar la palabra reservada <code>class</code>, y después el nombre de la clase como se muestra en la figura 4. En este curso la clase padre será siempre objeto:"
      ]
    },
    {
      "cell_type": "markdown",
      "metadata": {
        "id": "uBdlOTbcGHAj"
      },
      "source": [
        "<img src=\"https://s3-api.us-geo.objectstorage.softlayer.net/cf-courses-data/CognitiveClass/PY0101EN/Chapter%203/Images/ClassesDefine.png\" width=\"400\" />"
      ]
    },
    {
      "cell_type": "markdown",
      "metadata": {
        "id": "po8ToG7ZGHAj"
      },
      "source": [
        "<i>Figura 4: Tres instancias de la clase circle o, dicho de otra forma, tres objetos de tipo circle.</i>"
      ]
    },
    {
      "cell_type": "markdown",
      "metadata": {
        "id": "wCClZ37QGHAk"
      },
      "source": [
        "El siguiente paso es el método especial llamado constructor <code>&#95;&#95;init&#95;&#95;</code>, que es usado para inicializar el objeto. La entrada son datos para los atributos. El termino <code>self</code> contiene todos los atributos del grupo. Por ejemplo <code>self.color</code> asigna el valor del atributo color y <code>self.radius</code> valor del radio. También tenemos el método <code>add_radius()</code> con el parámetro <code>r</code>, el método suma el valor de <code>r</code> al atributo radius. Para acceder al valor de radius usamos la sintaxis <code>self.radius</code>. El etiquetado se resume en la Figura 5."
      ]
    },
    {
      "cell_type": "markdown",
      "metadata": {
        "id": "R5Bb2yV7GHAl"
      },
      "source": [
        "<img src=\"https://s3-api.us-geo.objectstorage.softlayer.net/cf-courses-data/CognitiveClass/PY0101EN/Chapter%203/Images/ClassesCircle.png\" width=\"600\" />"
      ]
    },
    {
      "cell_type": "markdown",
      "metadata": {
        "id": "E534twx-GHAl"
      },
      "source": [
        "<i>Figura 5: Sintaxis del objeto circle.</i>"
      ]
    },
    {
      "cell_type": "markdown",
      "metadata": {
        "id": "Dwb7rovrGHAm"
      },
      "source": [
        "El objeto actual se muestra mas adelante. Incluimos el método <code>drawCircle</code> para mostrar la imagen de un circulo. Asignamos el valor de radius en 3 y el color en azul (blue):"
      ]
    },
    {
      "cell_type": "code",
      "metadata": {
        "id": "1UwoLPBjGHAm"
      },
      "source": [
        "# Crear la clase Circle\n",
        " \n",
        "class Circle(object):\n",
        "    \n",
        "    # Constructor\n",
        "    def __init__(self, radius=3, color='blue'):\n",
        "        self.radius = radius\n",
        "        self.color = color \n",
        "    \n",
        "    # Method\n",
        "    def add_radius(self, r):\n",
        "        self.radius = self.radius + r\n",
        "        return(self.radius)\n",
        "    \n",
        "    # Method\n",
        "    def drawCircle(self):\n",
        "        plt.gca().add_patch(plt.Circle((0, 0), radius=self.radius, fc=self.color))\n",
        "        plt.axis('scaled')\n",
        "        plt.show()"
      ],
      "execution_count": null,
      "outputs": []
    },
    {
      "cell_type": "markdown",
      "metadata": {
        "id": "nUcAtG0YGHAn"
      },
      "source": [
        "<hr>"
      ]
    },
    {
      "cell_type": "markdown",
      "metadata": {
        "id": "2dupgByVGHAn"
      },
      "source": [
        "<h2 id=\"circle\">Crear una instancia de la clase Circulo</h2>"
      ]
    },
    {
      "cell_type": "markdown",
      "metadata": {
        "id": "cgRmrdCnGHAo"
      },
      "source": [
        "Vamos a crear el objeto <code>RedCircle</code> de tipo Circle para hacer lo siguiente:"
      ]
    },
    {
      "cell_type": "code",
      "metadata": {
        "id": "w1uxIaerGHAo"
      },
      "source": [
        "# Crear un objeto RedCircle\n",
        " \n",
        "RedCircle = Circle(10, 'red')"
      ],
      "execution_count": null,
      "outputs": []
    },
    {
      "cell_type": "markdown",
      "metadata": {
        "id": "KRxuEkvGGHAp"
      },
      "source": [
        "Podemos usar el comando <code>dir</code> para obtener una lista de los métodos del objeto. Muchos de ellos son métodos por defecto de Python."
      ]
    },
    {
      "cell_type": "code",
      "metadata": {
        "id": "r6uc3rqqGHAq"
      },
      "source": [
        "# Obtener los métodos que pueden usarse en el objeto RedCircle\n",
        " \n",
        "dir(RedCircle)"
      ],
      "execution_count": null,
      "outputs": []
    },
    {
      "cell_type": "markdown",
      "metadata": {
        "id": "V2-SmchdGHAq"
      },
      "source": [
        "Veamos el valor de los atributos del objeto:"
      ]
    },
    {
      "cell_type": "code",
      "metadata": {
        "colab": {
          "base_uri": "https://localhost:8080/"
        },
        "id": "wlB7Wiv0GHAr",
        "outputId": "6f4cbcc5-0778-4285-a6e0-cc0e05112a4a"
      },
      "source": [
        "# Imprime el atributo radius del objeto\n",
        " \n",
        "RedCircle.radius"
      ],
      "execution_count": null,
      "outputs": [
        {
          "output_type": "execute_result",
          "data": {
            "text/plain": [
              "10"
            ]
          },
          "metadata": {
            "tags": []
          },
          "execution_count": 4
        }
      ]
    },
    {
      "cell_type": "code",
      "metadata": {
        "colab": {
          "base_uri": "https://localhost:8080/",
          "height": 35
        },
        "id": "Qni6uCyDGHAr",
        "outputId": "ba4895ab-e6d9-4796-bf8e-f4be163e5e55"
      },
      "source": [
        "# Imprime el atributo color del objeto\n",
        " \n",
        "RedCircle.color"
      ],
      "execution_count": null,
      "outputs": [
        {
          "output_type": "execute_result",
          "data": {
            "application/vnd.google.colaboratory.intrinsic+json": {
              "type": "string"
            },
            "text/plain": [
              "'red'"
            ]
          },
          "metadata": {
            "tags": []
          },
          "execution_count": 5
        }
      ]
    },
    {
      "cell_type": "markdown",
      "metadata": {
        "id": "JlzCW7fiGHAs"
      },
      "source": [
        "Podemos cambiar el valor de los atributos del objeto:"
      ]
    },
    {
      "cell_type": "code",
      "metadata": {
        "colab": {
          "base_uri": "https://localhost:8080/"
        },
        "id": "ZkLW3EAkGHAt",
        "outputId": "deba30c4-09b2-459a-e140-2bc8574e81bf"
      },
      "source": [
        "# Asigna un valor al atributo radius\n",
        " \n",
        "RedCircle.radius = 1\n",
        "RedCircle.radius"
      ],
      "execution_count": null,
      "outputs": [
        {
          "output_type": "execute_result",
          "data": {
            "text/plain": [
              "1"
            ]
          },
          "metadata": {
            "tags": []
          },
          "execution_count": 6
        }
      ]
    },
    {
      "cell_type": "markdown",
      "metadata": {
        "id": "bryf7a8vGHAt"
      },
      "source": [
        "Dibujamos el objeto usando el método <code>drawCircle()</code>:"
      ]
    },
    {
      "cell_type": "code",
      "metadata": {
        "colab": {
          "base_uri": "https://localhost:8080/",
          "height": 265
        },
        "id": "hf08UR8LGHAu",
        "outputId": "3227353b-b56d-4281-c7aa-ca16cba0fe07"
      },
      "source": [
        "# Llamada al método drawCircle\n",
        " \n",
        "RedCircle.drawCircle()"
      ],
      "execution_count": null,
      "outputs": [
        {
          "output_type": "display_data",
          "data": {
            "image/png": "[encoded data removed]",
            "text/plain": [
              "<Figure size 432x288 with 1 Axes>"
            ]
          },
          "metadata": {
            "tags": [],
            "needs_background": "light"
          }
        }
      ]
    },
    {
      "cell_type": "markdown",
      "metadata": {
        "id": "HCc8-vqvGHAu"
      },
      "source": [
        "Podemos incrementar el radio del circulo utilizando el metodo <code>add_radius()</code>. Incrementémoslo a 2 y después a 5:"
      ]
    },
    {
      "cell_type": "code",
      "metadata": {
        "colab": {
          "base_uri": "https://localhost:8080/"
        },
        "id": "U5RPru6TGHAv",
        "outputId": "a72019fa-41a1-4005-d772-9cfb24e6f46a"
      },
      "source": [
        "# Usar el método para modificar el atributo radius\n",
        "\n",
        "print('Radius of object:',RedCircle.radius)\n",
        "RedCircle.add_radius(2)\n",
        "print('Radius of object of after applying the method add_radius(2):',RedCircle.radius)\n",
        "RedCircle.add_radius(5)\n",
        "print('Radius of object of after applying the method add_radius(5):',RedCircle.radius)"
      ],
      "execution_count": null,
      "outputs": [
        {
          "output_type": "stream",
          "text": [
            "Radius of object: 1\n",
            "Radius of object of after applying the method add_radius(2): 3\n",
            "Radius of object of after applying the method add_radius(5): 8\n"
          ],
          "name": "stdout"
        }
      ]
    },
    {
      "cell_type": "markdown",
      "metadata": {
        "id": "gBv2xut8GHAv"
      },
      "source": [
        "Vamos a crear un circulo azul. Su color por defecto será azul (blue), solo debemos especificar el valor que queremos darle al radio:"
      ]
    },
    {
      "cell_type": "code",
      "metadata": {
        "id": "_FCVOvV_GHAw"
      },
      "source": [
        "# Crear un círculo azul con un radio especifico\n",
        " \n",
        "BlueCircle = Circle(radius=100)"
      ],
      "execution_count": null,
      "outputs": []
    },
    {
      "cell_type": "markdown",
      "metadata": {
        "id": "IWfH6p3iGHAw"
      },
      "source": [
        "Al igual que antes, también podemos acceder los atributos de una instancia al usar el punto ( . ):"
      ]
    },
    {
      "cell_type": "code",
      "metadata": {
        "colab": {
          "base_uri": "https://localhost:8080/"
        },
        "id": "wU7iVb8aGHAx",
        "outputId": "ef7f2f03-28f7-42af-89b9-79d3eed60254"
      },
      "source": [
        "# Imprimir el atributo radius del objeto\n",
        " \n",
        "BlueCircle.radius"
      ],
      "execution_count": null,
      "outputs": [
        {
          "output_type": "execute_result",
          "data": {
            "text/plain": [
              "100"
            ]
          },
          "metadata": {
            "tags": []
          },
          "execution_count": 9
        }
      ]
    },
    {
      "cell_type": "code",
      "metadata": {
        "colab": {
          "base_uri": "https://localhost:8080/",
          "height": 35
        },
        "id": "u6Ahg-1JGHAx",
        "outputId": "67152861-d836-4928-e237-2d0860bac716"
      },
      "source": [
        "# Imprimir el atributo color del objeto\n",
        "\n",
        "BlueCircle.color"
      ],
      "execution_count": null,
      "outputs": [
        {
          "output_type": "execute_result",
          "data": {
            "application/vnd.google.colaboratory.intrinsic+json": {
              "type": "string"
            },
            "text/plain": [
              "'blue'"
            ]
          },
          "metadata": {
            "tags": []
          },
          "execution_count": 12
        }
      ]
    },
    {
      "cell_type": "markdown",
      "metadata": {
        "id": "nLvYzi2NGHAy"
      },
      "source": [
        "Podemos dibujar el objeto utilizando el método <code>drawCircle()</code>:"
      ]
    },
    {
      "cell_type": "code",
      "metadata": {
        "colab": {
          "base_uri": "https://localhost:8080/",
          "height": 265
        },
        "id": "CsiV8IJpGHAy",
        "outputId": "acdcce55-1514-481f-b507-de355a46adb6"
      },
      "source": [
        "# Llamada al método drawCircle\n",
        " \n",
        "BlueCircle.drawCircle()"
      ],
      "execution_count": null,
      "outputs": [
        {
          "output_type": "display_data",
          "data": {
            "image/png": "[encoded data removed]",
            "text/plain": [
              "<Figure size 432x288 with 1 Axes>"
            ]
          },
          "metadata": {
            "tags": [],
            "needs_background": "light"
          }
        }
      ]
    },
    {
      "cell_type": "code",
      "metadata": {
        "id": "QEgHafxWG4K1"
      },
      "source": [
        "from google.colab import drive\n",
        "drive.mount('/content/drive')"
      ],
      "execution_count": null,
      "outputs": []
    },
    {
      "cell_type": "markdown",
      "metadata": {
        "id": "qKtF8a55GHAz"
      },
      "source": [
        "Compara el eje “x” y “y” de la figura <code>RedCircle</code>; veras que son distintos."
      ]
    },
    {
      "cell_type": "markdown",
      "metadata": {
        "id": "fPJ9apYMGHAz"
      },
      "source": [
        "<hr>"
      ]
    },
    {
      "cell_type": "markdown",
      "metadata": {
        "id": "5gp230f0GHAz"
      },
      "source": [
        "<h2 id=\"rect\">La Clase Rectángulo</h2>"
      ]
    },
    {
      "cell_type": "markdown",
      "metadata": {
        "id": "rv8zxcdnGHA0"
      },
      "source": [
        "Vamos a crear una clase rectángulo con los atributos height (altura) y color. Solo añadiremos el método para dibujar un rectángulo:"
      ]
    },
    {
      "cell_type": "code",
      "metadata": {
        "id": "x0fUf_GIGHA0"
      },
      "source": [
        "# Crear una nueva clase Rectangle para construir un objeto rectangulo\n",
        "\n",
        "class Rectangle(object):\n",
        "    \n",
        "    # Constructor\n",
        "    def __init__(self, width=2, height=3, color='r'):\n",
        "        self.height = height \n",
        "        self.width = width\n",
        "        self.color = color\n",
        "    \n",
        "    # Method\n",
        "    def drawRectangle(self):\n",
        "        plt.gca().add_patch(plt.Rectangle((0, 0), self.width, self.height ,fc=self.color))\n",
        "        plt.axis('scaled')\n",
        "        plt.show()\n",
        "        SkinnyBlueRectangle = Rectangle(2, 10, 'blue')"
      ],
      "execution_count": null,
      "outputs": []
    },
    {
      "cell_type": "markdown",
      "metadata": {
        "id": "fVD00QDoGHA1"
      },
      "source": [
        "Creamos el objeto <code>SkinnyBlueRectangle</code> de tipo Rectangle. Su anchura (width) será de 2 y la altura (height) de 3, será de color azul:"
      ]
    },
    {
      "cell_type": "code",
      "metadata": {
        "id": "bwL0s7nBGHA1"
      },
      "source": [
        "# Crear un nuevo objeto rectangle\n",
        "\n",
        "SkinnyBlueRectangle = Rectangle(2, 10, 'blue')"
      ],
      "execution_count": null,
      "outputs": []
    },
    {
      "cell_type": "markdown",
      "metadata": {
        "id": "HzWQvFWQGHA2"
      },
      "source": [
        "Al igual que antes, también podemos acceder los atributos de una instancia al usar el punto ( . ):"
      ]
    },
    {
      "cell_type": "code",
      "metadata": {
        "id": "fmw66WKLGHA2"
      },
      "source": [
        "# Imprimir el atributo height (altura en inglés) del objeto\n",
        "\n",
        "SkinnyBlueRectangle.height "
      ],
      "execution_count": null,
      "outputs": []
    },
    {
      "cell_type": "code",
      "metadata": {
        "id": "hT2As17pGHA3"
      },
      "source": [
        "# Imprimir el atributo width (anchura en inglés) del objeto\n",
        "\n",
        "SkinnyBlueRectangle.width"
      ],
      "execution_count": null,
      "outputs": []
    },
    {
      "cell_type": "code",
      "metadata": {
        "id": "7mZFw5wCGHA3"
      },
      "source": [
        "# Imprimir el atributo color del objeto\n",
        "\n",
        "SkinnyBlueRectangle.color"
      ],
      "execution_count": null,
      "outputs": []
    },
    {
      "cell_type": "markdown",
      "metadata": {
        "id": "_cVc_c8EGHA4"
      },
      "source": [
        "Podemos dibujar el objeto:"
      ]
    },
    {
      "cell_type": "code",
      "metadata": {
        "scrolled": true,
        "id": "Lz7E7Fu-GHA4"
      },
      "source": [
        "# Usar el método drawRectangle para dibujar la figura\n",
        "\n",
        "SkinnyBlueRectangle.drawRectangle()"
      ],
      "execution_count": null,
      "outputs": []
    },
    {
      "cell_type": "markdown",
      "metadata": {
        "id": "6AdOPABMGHA5"
      },
      "source": [
        "Vamos a crear el objeto <code>FatYellowRectangle</code del tipo Rectangle:"
      ]
    },
    {
      "cell_type": "code",
      "metadata": {
        "collapsed": true,
        "id": "c_6mm3grGHA5"
      },
      "source": [
        "# Crear un nuevo objeto rectangle\n",
        "\n",
        "FatYellowRectangle = Rectangle(20, 5, 'yellow')"
      ],
      "execution_count": null,
      "outputs": []
    },
    {
      "cell_type": "markdown",
      "metadata": {
        "id": "3o4QAWHTGHA6"
      },
      "source": [
        " We can access the attributes of the instance of the class by using the dot notation:"
      ]
    },
    {
      "cell_type": "code",
      "metadata": {
        "id": "PC7s91xlGHA6"
      },
      "source": [
        "# Imprimir el atributo height (altura en inglés) del objeto\n",
        "\n",
        "FatYellowRectangle.height "
      ],
      "execution_count": null,
      "outputs": []
    },
    {
      "cell_type": "code",
      "metadata": {
        "id": "KLAC2WQLGHA7"
      },
      "source": [
        "# Imprimir el atributo width (anchura en inglés) del objeto\n",
        "\n",
        "FatYellowRectangle.width"
      ],
      "execution_count": null,
      "outputs": []
    },
    {
      "cell_type": "code",
      "metadata": {
        "id": "LkEsmvZ1GHA7"
      },
      "source": [
        "# Imprimir el atributo color del objeto\n",
        "\n",
        "FatYellowRectangle.color"
      ],
      "execution_count": null,
      "outputs": []
    },
    {
      "cell_type": "markdown",
      "metadata": {
        "id": "o3TaqfK_GHA8"
      },
      "source": [
        "Podemos dibujar el objeto:"
      ]
    },
    {
      "cell_type": "code",
      "metadata": {
        "id": "8074WS0ZGHA8"
      },
      "source": [
        "# Usar el método drawRectangle para dibujar la figura\n",
        "\n",
        "FatYellowRectangle.drawRectangle()"
      ],
      "execution_count": null,
      "outputs": []
    },
    {
      "cell_type": "markdown",
      "metadata": {
        "id": "BGko2ZaBGHA9"
      },
      "source": [
        "<hr>\n",
        "<h2>¡El último ejercicio!</h2>\n",
        "<p>Felicidades, has completado tu primera lección y practica de laboratorio en Python. Sin embargo, hay algo mas que debes saber. La comunidad en Ciencia de Datos te alienta a compartir tu trabajo. La mejor forma de hacerlo es a través de GitHub. Al compartir tus cuadernos en GitHub, además de construir una reputación entre la comunidad de los científicos de datos, también te ayudará en el proceso de encontrar un trabajo. Incluso si este fuera tu primer material de trabajo, nunca es tarde para fomentar buenos hábitos. Por favor lee y analiza <a href=\"https://cognitiveclass.ai/blog/data-scientists-stand-out-by-sharing-your-notebooks/\" target=\"_blank\">este artículo</a> para aprender a compartir tu trabajo.\n",
        "<hr>"
      ]
    },
    {
      "cell_type": "markdown",
      "metadata": {
        "id": "lddPAEq9GHA9"
      },
      "source": [
        "<div class=\"alert alert-block alert-info\" style=\"margin-top: 20px\">\n",
        "<h2>¡Obtén gratis IBM Watson Studio!</h2>\n",
        "    <p><a href=\"https://cocl.us/PY0101EN_edx_add_bbottom\"><img src=\"https://s3-api.us-geo.objectstorage.softlayer.net/cf-courses-data/CognitiveClass/PY0101EN/Ad/BottomAd.png\" width=\"750\" align=\"center\"></a></p>\n",
        "</div>"
      ]
    },
    {
      "cell_type": "markdown",
      "metadata": {
        "id": "tJhlrl-5GHA-"
      },
      "source": [
        "<h3>Acerca de los Autores:</h3>  \n",
        "<p><a href=\"https://www.linkedin.com/in/joseph-s-50398b136/\" target=\"_blank\">Joseph Santarcangelo</a> es un Científico de Datos en IBM, además posee un doctorado en Ingeniería Eléctrica. Su trabajo de investigación se centra en el uso de Aprendizaje Automático (Machine Learning), Procesamiento de Señales y Visión Artificial para determinar el impacto de los videos en el proceso cognitivo. Joseph trabaja en IBM desde la terminación de su doctorado.</p>"
      ]
    },
    {
      "cell_type": "markdown",
      "metadata": {
        "id": "8egvXGLEGHA_"
      },
      "source": [
        "Otros colaboradores: <a href=\"www.linkedin.com/in/jiahui-mavis-zhou-a4537814a\">Mavis Zhou</a>"
      ]
    },
    {
      "cell_type": "markdown",
      "metadata": {
        "id": "gZAHkn8UGHBA"
      },
      "source": [
        "<hr>"
      ]
    },
    {
      "cell_type": "markdown",
      "metadata": {
        "id": "CDgnOxnWGHBB"
      },
      "source": [
        "<p>Copyright &copy; 2018 IBM Developer Skills Network. This notebook and its source code are released under the terms of the <a href=\"https://cognitiveclass.ai/mit-license/\">MIT License</a>.</p>"
      ]
    }
  ]
}