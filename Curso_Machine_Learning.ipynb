{
  "nbformat": 4,
  "nbformat_minor": 0,
  "metadata": {
    "colab": {
      "provenance": [],
      "toc_visible": true,
      "authorship_tag": "ABX9TyNrvIP5LZGdwtm3Riwhd9Pm",
      "include_colab_link": true
    },
    "kernelspec": {
      "name": "python3",
      "display_name": "Python 3"
    },
    "language_info": {
      "name": "python"
    }
  },
  "cells": [
    {
      "cell_type": "markdown",
      "metadata": {
        "id": "view-in-github",
        "colab_type": "text"
      },
      "source": [
        "<a href=\"https://colab.research.google.com/github/jacedoe/pythoniso/blob/main/Curso_Machine_Learning.ipynb\" target=\"_parent\"><img src=\"https://colab.research.google.com/assets/colab-badge.svg\" alt=\"Open In Colab\"/></a>"
      ]
    },
    {
      "cell_type": "markdown",
      "source": [
        "Ejercicio 1.\n",
        "Crea una lista de números secuenciales con el valor mínimo de 10 y el valor máximo de 39. Convierte esta lista en una lista o matriz de 2 dimensiones (3 filas por 10 columnas). Muestra por pantalla el valor del elemento de la esquina superior derecha."
      ],
      "metadata": {
        "id": "P53QN9fSdQwy"
      }
    },
    {
      "cell_type": "markdown",
      "source": [
        "\n",
        "Machine Learning. Curso básico de Machine Learning y Python de IBM Skillbuilds"
      ],
      "metadata": {
        "id": "bw4eIbpin1mI"
      }
    },
    {
      "cell_type": "markdown",
      "source": [
        "Ejemplo Función Filter"
      ],
      "metadata": {
        "id": "K-TQ5kvEOFWW"
      }
    },
    {
      "cell_type": "code",
      "metadata": {
        "colab": {
          "base_uri": "https://localhost:8080/"
        },
        "id": "46cf51fd",
        "outputId": "95237abb-ba32-4a5d-d41e-9aa2039a3292"
      },
      "source": [
        "def positivo(num):\n",
        "    if (num >= 0):\n",
        "        return num\n",
        "    else:\n",
        "        return None\n",
        "lista = [1,-1,2,-2,3,-3]\n",
        "lista2 = list(filter(positivo,lista))\n",
        "lista2"
      ],
      "execution_count": null,
      "outputs": [
        {
          "output_type": "execute_result",
          "data": {
            "text/plain": [
              "[1, 2, 3]"
            ]
          },
          "metadata": {},
          "execution_count": 3
        }
      ]
    },
    {
      "cell_type": "markdown",
      "source": [
        "Ejemplo Función Map"
      ],
      "metadata": {
        "id": "ZvhqUPwGMkZb"
      }
    },
    {
      "cell_type": "code",
      "source": [
        "def dividir_entre_dos(num):\n",
        "    return num/2\n",
        "lista = [1,2,3,4,5]\n",
        "lista2 = list(map(dividir_entre_dos,lista))\n",
        "lista2\n"
      ],
      "metadata": {
        "id": "6snnH42HlNwo",
        "colab": {
          "base_uri": "https://localhost:8080/"
        },
        "outputId": "01bb7b6c-42f6-4ecc-bb26-cbf4d3a0d5f8"
      },
      "execution_count": 2,
      "outputs": [
        {
          "output_type": "execute_result",
          "data": {
            "text/plain": [
              "[0.5, 1.0, 1.5, 2.0, 2.5]"
            ]
          },
          "metadata": {},
          "execution_count": 2
        }
      ]
    },
    {
      "cell_type": "markdown",
      "source": [
        "Ejemplos con Numpy"
      ],
      "metadata": {
        "id": "n3aYBkxqbLaK"
      }
    },
    {
      "cell_type": "code",
      "source": [
        "import numpy as np\n",
        "lista = [1,2,3,4,5]\n",
        "array = np.array(lista)\n",
        "array"
      ],
      "metadata": {
        "colab": {
          "base_uri": "https://localhost:8080/"
        },
        "id": "Z5nwj3fTOSZ2",
        "outputId": "92af52ad-504e-4003-eb34-ea263d05b525"
      },
      "execution_count": 4,
      "outputs": [
        {
          "output_type": "execute_result",
          "data": {
            "text/plain": [
              "array([1, 2, 3, 4, 5])"
            ]
          },
          "metadata": {},
          "execution_count": 4
        }
      ]
    },
    {
      "cell_type": "code",
      "source": [
        "lista2 = ([1,2,3],[4,5,6],[7,8,9])\n",
        "array2 = np.array(lista2)\n",
        "array2"
      ],
      "metadata": {
        "colab": {
          "base_uri": "https://localhost:8080/"
        },
        "id": "mw6zopSzPuMB",
        "outputId": "a9fac90b-c44f-478b-89d5-d362ee3266f6"
      },
      "execution_count": 8,
      "outputs": [
        {
          "output_type": "execute_result",
          "data": {
            "text/plain": [
              "array([[1, 2, 3],\n",
              "       [4, 5, 6],\n",
              "       [7, 8, 9]])"
            ]
          },
          "metadata": {},
          "execution_count": 8
        }
      ]
    },
    {
      "cell_type": "code",
      "source": [
        "array = np.arange(0,10)\n",
        "array\n"
      ],
      "metadata": {
        "colab": {
          "base_uri": "https://localhost:8080/"
        },
        "id": "RXLa-EcfWUC-",
        "outputId": "1e09e8ad-ae9f-44f7-83fb-ef6a0f04496c"
      },
      "execution_count": 15,
      "outputs": [
        {
          "output_type": "execute_result",
          "data": {
            "text/plain": [
              "array([0, 1, 2, 3, 4, 5, 6, 7, 8, 9])"
            ]
          },
          "metadata": {},
          "execution_count": 15
        }
      ]
    },
    {
      "cell_type": "code",
      "source": [
        "array[:]"
      ],
      "metadata": {
        "colab": {
          "base_uri": "https://localhost:8080/"
        },
        "id": "eM-oEUe4XVtV",
        "outputId": "83794328-8804-4efa-ca4f-48ece0d618ea"
      },
      "execution_count": 21,
      "outputs": [
        {
          "output_type": "execute_result",
          "data": {
            "text/plain": [
              "array([0, 1, 2, 3, 4, 5, 6, 7, 8, 9])"
            ]
          },
          "metadata": {},
          "execution_count": 21
        }
      ]
    },
    {
      "cell_type": "code",
      "source": [
        "array[array > 5]\n"
      ],
      "metadata": {
        "colab": {
          "base_uri": "https://localhost:8080/"
        },
        "id": "zs0D28oqZ3Ha",
        "outputId": "ecdf2645-517d-4526-c0e3-b396fc61e088"
      },
      "execution_count": 22,
      "outputs": [
        {
          "output_type": "execute_result",
          "data": {
            "text/plain": [
              "array([6, 7, 8, 9])"
            ]
          },
          "metadata": {},
          "execution_count": 22
        }
      ]
    },
    {
      "cell_type": "code",
      "source": [
        "array[array % 2 == 1]\n"
      ],
      "metadata": {
        "colab": {
          "base_uri": "https://localhost:8080/"
        },
        "id": "uexhhstNaCsg",
        "outputId": "4e1662ca-5488-4d68-96bc-153ebdc1710f"
      },
      "execution_count": 24,
      "outputs": [
        {
          "output_type": "execute_result",
          "data": {
            "text/plain": [
              "array([1, 3, 5, 7, 9])"
            ]
          },
          "metadata": {},
          "execution_count": 24
        }
      ]
    },
    {
      "cell_type": "code",
      "source": [
        "array2 = np.arange(9,19)\n",
        "array2\n"
      ],
      "metadata": {
        "colab": {
          "base_uri": "https://localhost:8080/"
        },
        "id": "tdwcKelQaZE0",
        "outputId": "a8e15746-75ea-40d3-f85a-0bbbcdf3f968"
      },
      "execution_count": 31,
      "outputs": [
        {
          "output_type": "execute_result",
          "data": {
            "text/plain": [
              "array([ 9, 10, 11, 12, 13, 14, 15, 16, 17, 18])"
            ]
          },
          "metadata": {},
          "execution_count": 31
        }
      ]
    },
    {
      "cell_type": "code",
      "source": [
        "array2 - array\n"
      ],
      "metadata": {
        "colab": {
          "base_uri": "https://localhost:8080/"
        },
        "id": "_3jmRvyIaqJI",
        "outputId": "6d44e406-69c8-4b40-f737-b81fe0829365"
      },
      "execution_count": 32,
      "outputs": [
        {
          "output_type": "execute_result",
          "data": {
            "text/plain": [
              "array([9, 9, 9, 9, 9, 9, 9, 9, 9, 9])"
            ]
          },
          "metadata": {},
          "execution_count": 32
        }
      ]
    },
    {
      "cell_type": "markdown",
      "source": [
        "Ejercicio 1.\n",
        "Crea una lista de números secuenciales con el valor mínimo de 10 y el valor máximo de 39. Convierte esta lista en una lista o matriz de 2 dimensiones (3 filas por 10 columnas). Muestra por pantalla el valor del elemento de la esquina superior derecha."
      ],
      "metadata": {
        "id": "R2OhCU9mcdre"
      }
    },
    {
      "cell_type": "code",
      "source": [
        "import numpy as np\n",
        "\n",
        "sequential_list = list(range(10, 40))\n",
        "two_dimensional_array = np.array(sequential_list).reshape(3, 10)\n",
        "print(two_dimensional_array)\n",
        "\n",
        "# Accessing the element in the top-right corner (first row, last column)\n",
        "top_right_element = two_dimensional_array[0, 9]\n",
        "print(\"Valor del elemento de la esquina superior derecha:\", top_right_element)"
      ],
      "metadata": {
        "colab": {
          "base_uri": "https://localhost:8080/"
        },
        "id": "cKTWI1NWdHaS",
        "outputId": "bbaec57c-6d27-4766-8d5b-4e84006abff5"
      },
      "execution_count": 39,
      "outputs": [
        {
          "output_type": "stream",
          "name": "stdout",
          "text": [
            "[[10 11 12 13 14 15 16 17 18 19]\n",
            " [20 21 22 23 24 25 26 27 28 29]\n",
            " [30 31 32 33 34 35 36 37 38 39]]\n",
            "Valor del elemento de la esquina superior derecha: 19\n"
          ]
        }
      ]
    }
  ]
}